{
 "cells": [
  {
   "cell_type": "code",
   "execution_count": 1,
   "id": "68989f8b-96f8-45cc-bd7b-e4e08231cd14",
   "metadata": {},
   "outputs": [],
   "source": [
    "import numpy as np"
   ]
  },
  {
   "cell_type": "code",
   "execution_count": 58,
   "id": "4d6566fa-0ec6-4de8-bfe1-1f1ac6f695d3",
   "metadata": {},
   "outputs": [
    {
     "name": "stdout",
     "output_type": "stream",
     "text": [
      "[[ 1  2  3]\n",
      " [ 4  5  6]\n",
      " [ 7  8  9]\n",
      " [10 11 12]]\n"
     ]
    }
   ],
   "source": [
    "arr = np.array([1, 2, 3, 4, 5, 6, 7, 8, 9, 10, 11, 12])\n",
    "newarr = arr.reshape(4, 3)\n",
    "print(newarr)"
   ]
  },
  {
   "cell_type": "code",
   "execution_count": 59,
   "id": "8b7cd6fa-9cb6-4448-867f-0a621163fed9",
   "metadata": {},
   "outputs": [
    {
     "name": "stdout",
     "output_type": "stream",
     "text": [
      "[[ 1  2  3  4  5  6]\n",
      " [ 7  8  9 10 11 12]]\n"
     ]
    }
   ],
   "source": [
    "newarr_1 = arr.reshape(2, 6)\n",
    "print(newarr_1)"
   ]
  },
  {
   "cell_type": "code",
   "execution_count": 7,
   "id": "f8419f93-0a3d-43ef-9849-c014f4e5f0eb",
   "metadata": {},
   "outputs": [
    {
     "name": "stdout",
     "output_type": "stream",
     "text": [
      "[[[ 1  2  3]\n",
      "  [ 4  5  6]\n",
      "  [ 7  8  9]\n",
      "  [10 11 12]]]\n",
      "(1, 4, 3)\n"
     ]
    }
   ],
   "source": [
    "arr3d = np.array([[[1,2,3], [4,5,6], [7,8,9], [10,11,12]]])\n",
    "print(arr3d)\n",
    "print(arr3d.shape)"
   ]
  },
  {
   "cell_type": "code",
   "execution_count": 9,
   "id": "f95ec0c6-7fb4-48ff-b2dd-ca49670534a5",
   "metadata": {},
   "outputs": [
    {
     "data": {
      "text/plain": [
       "3"
      ]
     },
     "execution_count": 9,
     "metadata": {},
     "output_type": "execute_result"
    }
   ],
   "source": [
    "arr3d.ndim"
   ]
  },
  {
   "cell_type": "code",
   "execution_count": 4,
   "id": "5f67e581-0f3a-43c2-ba44-a13d0d49396f",
   "metadata": {},
   "outputs": [
    {
     "name": "stdout",
     "output_type": "stream",
     "text": [
      "[ 1  2  3  4  5  6  7  8  9 10 11 12]\n"
     ]
    }
   ],
   "source": [
    "flattened_array = arr3d.flatten()\n",
    "print(flattened_array)"
   ]
  },
  {
   "cell_type": "code",
   "execution_count": 8,
   "id": "41398ae6-005c-40fe-9541-523025c439ed",
   "metadata": {},
   "outputs": [
    {
     "name": "stdout",
     "output_type": "stream",
     "text": [
      "(2, 3)\n",
      "[[1 2 3]\n",
      " [4 5 6]]\n"
     ]
    }
   ],
   "source": [
    "arr2d = np.array([[1, 2, 3], [4, 5, 6]])\n",
    "print(arr2d.shape)\n",
    "print(arr2d)"
   ]
  },
  {
   "cell_type": "code",
   "execution_count": 10,
   "id": "90a728ab-1020-4335-ae55-abb8c0f203ce",
   "metadata": {},
   "outputs": [
    {
     "data": {
      "text/plain": [
       "2"
      ]
     },
     "execution_count": 10,
     "metadata": {},
     "output_type": "execute_result"
    }
   ],
   "source": [
    "arr2d.ndim"
   ]
  },
  {
   "cell_type": "code",
   "execution_count": 11,
   "id": "646387b1-62e3-4867-ad88-2c772eb263e2",
   "metadata": {},
   "outputs": [
    {
     "name": "stdout",
     "output_type": "stream",
     "text": [
      "[[1 4]\n",
      " [2 5]\n",
      " [3 6]]\n"
     ]
    }
   ],
   "source": [
    "transposed_array2d = arr2d.transpose()\n",
    "print(transposed_array2d)"
   ]
  },
  {
   "cell_type": "code",
   "execution_count": 14,
   "id": "314f8465-c821-4fd7-ab23-62bbda5c555a",
   "metadata": {},
   "outputs": [
    {
     "name": "stdout",
     "output_type": "stream",
     "text": [
      "(3, 2)\n"
     ]
    }
   ],
   "source": [
    "print(transposed_array2d.shape)"
   ]
  },
  {
   "cell_type": "code",
   "execution_count": 12,
   "id": "85884c94-832d-4aa7-b8dd-f007404d4612",
   "metadata": {},
   "outputs": [
    {
     "name": "stdout",
     "output_type": "stream",
     "text": [
      "[[[ 1]\n",
      "  [ 4]\n",
      "  [ 7]\n",
      "  [10]]\n",
      "\n",
      " [[ 2]\n",
      "  [ 5]\n",
      "  [ 8]\n",
      "  [11]]\n",
      "\n",
      " [[ 3]\n",
      "  [ 6]\n",
      "  [ 9]\n",
      "  [12]]]\n"
     ]
    }
   ],
   "source": [
    "transposed_array3d = arr3d.transpose()\n",
    "print(transposed_array3d)"
   ]
  },
  {
   "cell_type": "code",
   "execution_count": 15,
   "id": "a813c4e2-7ea6-4caa-b4ba-2fc3e8c68cdd",
   "metadata": {},
   "outputs": [
    {
     "name": "stdout",
     "output_type": "stream",
     "text": [
      "(3, 4, 1)\n"
     ]
    }
   ],
   "source": [
    "print(transposed_array3d.shape)"
   ]
  },
  {
   "cell_type": "code",
   "execution_count": 17,
   "id": "2d82942a-3d9b-4de8-8cf4-dd446dd21ae8",
   "metadata": {},
   "outputs": [],
   "source": [
    "a = np.array([30, 20, 10])\n",
    "a.ndim\n",
    "b = np.array([10, 20, 30])"
   ]
  },
  {
   "cell_type": "code",
   "execution_count": 22,
   "id": "e43a3761-7145-4c11-83a2-e203dbbb7a9a",
   "metadata": {},
   "outputs": [
    {
     "name": "stdout",
     "output_type": "stream",
     "text": [
      "Element wise addition of two array using np.add is: [40 40 40]\n"
     ]
    }
   ],
   "source": [
    "result = np.add(a,b)\n",
    "print(f\"Element wise addition of two array using np.add is: {result}\")"
   ]
  },
  {
   "cell_type": "code",
   "execution_count": 26,
   "id": "16e0a846-e144-482a-9318-00dd13086f04",
   "metadata": {},
   "outputs": [
    {
     "name": "stdout",
     "output_type": "stream",
     "text": [
      "Element wise subtraction of two array using np.subtract is: [[ 20   0 -20]\n",
      " [ 10  30 -10]]\n"
     ]
    }
   ],
   "source": [
    "c = np.array([[30, 20, 10], [50, 60, 70]])\n",
    "c.ndim\n",
    "d = np.array([[10, 20, 30], [40, 30, 80]])\n",
    "result = np.subtract(c, d)\n",
    "print(f\"Element wise subtraction of two array using np.subtract is: {result}\")"
   ]
  },
  {
   "cell_type": "code",
   "execution_count": 27,
   "id": "121c5fb6-b30e-42d5-87f5-0c980d49efe8",
   "metadata": {},
   "outputs": [
    {
     "name": "stdout",
     "output_type": "stream",
     "text": [
      "Element wise multpilication of two array using np.multiply is: [300 400 300]\n"
     ]
    }
   ],
   "source": [
    "a = np.array([30, 20, 10])\n",
    "b = np.array([10, 20, 30])\n",
    "result = np.multiply(a, b)\n",
    "print(f\"Element wise multpilication of two array using np.multiply is: {result}\")"
   ]
  },
  {
   "cell_type": "code",
   "execution_count": 39,
   "id": "900fbb11-de43-481f-97c4-8e6675541bf7",
   "metadata": {},
   "outputs": [
    {
     "name": "stdout",
     "output_type": "stream",
     "text": [
      "[[0.5 1.  0.5]\n",
      " [1.  1.  1.5]]\n",
      "[[0.33333333 0.5        0.2       ]\n",
      " [0.66666667 0.5        0.6       ]]\n"
     ]
    }
   ],
   "source": [
    "a = np.array([[1, 2, 1], [2, 2, 3]])\n",
    "b = np.array([3, 4, 5])\n",
    "#b1 = np.array([3, 4])\n",
    "#result_error = np.divide(a, b1) # ValueError: operands could not be broadcast together with shapes (2,3) (2,) \n",
    "#print(result_error)\n",
    "print(a/2)\n",
    "result = np.divide(a, b)\n",
    "print(result)"
   ]
  },
  {
   "cell_type": "code",
   "execution_count": 38,
   "id": "30f09ec1-74fb-4f3f-ba55-7fc736dcf343",
   "metadata": {},
   "outputs": [
    {
     "name": "stdout",
     "output_type": "stream",
     "text": [
      "[ 4  8 16 32 64]\n"
     ]
    }
   ],
   "source": [
    "a = np.array([2, 2, 2, 2, 2])\n",
    "b = np.array([2, 3, 4, 5, 6])\n",
    "\n",
    "c = np.power(a,b)\n",
    "print(c)"
   ]
  },
  {
   "cell_type": "code",
   "execution_count": 40,
   "id": "022ef272-a4ea-4466-9189-10dae74f5bd0",
   "metadata": {},
   "outputs": [
    {
     "name": "stdout",
     "output_type": "stream",
     "text": [
      "[[2 2 2 2 2]]\n"
     ]
    }
   ],
   "source": [
    "a = 2 * np.ones((1, 5), dtype=int)\n",
    "print(a)"
   ]
  },
  {
   "cell_type": "code",
   "execution_count": 43,
   "id": "e059eccd-3a2b-441e-8fdc-6c3f2bec35d6",
   "metadata": {},
   "outputs": [
    {
     "name": "stdout",
     "output_type": "stream",
     "text": [
      "4.0\n",
      "6.333333333333333\n",
      "6.944222218666553\n",
      "48.22222222222222\n",
      "Printing all values upto 4 decimal points/n\n",
      "4.0\n",
      "6.3333\n",
      "6.9442\n",
      "48.2222\n",
      "Printing all values upto 3 decimal points/n\n",
      "4.000\n",
      "6.333\n",
      "6.944\n",
      "48.222\n"
     ]
    }
   ],
   "source": [
    "array = np.array([[4, 3, 2], [10, 1, 0], [5, 8, 24]])\n",
    "np.median(array)\n",
    "print(np.median(array))\n",
    "\n",
    "np.mean(array)\n",
    "print(np.mean(array))\n",
    "\n",
    "np.std(array)\n",
    "print(np.std(array))\n",
    "\n",
    "np.var(array)\n",
    "print(np.var(array))\n",
    "\n",
    "# Upto 4 decimal\n",
    "print(f\"Printing all values upto 4 decimal points/n\")\n",
    "print(round(np.median(array), 4))\n",
    "print(round(np.mean(array), 4))\n",
    "print(round(np.std(array), 4))\n",
    "print(round(np.var(array), 4))\n",
    "\n",
    "#Upto 3 decimal\n",
    "print(f\"Printing all values upto 3 decimal points/n\")\n",
    "print(f\"{np.median(array):.3f}\")\n",
    "print(f\"{np.mean(array):.3f}\")\n",
    "print(f\"{np.std(array):.3f}\")\n",
    "print(f\"{np.var(array):.3f}\")"
   ]
  },
  {
   "cell_type": "code",
   "execution_count": 48,
   "id": "ea3316b4-9ab6-4e88-b33e-5dd986720f08",
   "metadata": {},
   "outputs": [
    {
     "name": "stdout",
     "output_type": "stream",
     "text": [
      "['Hello Welcome' 'World Learners']\n"
     ]
    }
   ],
   "source": [
    "# Element wise concatenation of two arrays of string\n",
    "x = np.array([\"Hello\", \"World\"])\n",
    "y = np.array(['Welcome', 'Learners'])\n",
    "results = np.char.add(np.char.add(x, \" \"), y)\n",
    "print(results)"
   ]
  },
  {
   "cell_type": "code",
   "execution_count": 57,
   "id": "deea9789-e5c7-42bb-8bf7-f752ac8be1b6",
   "metadata": {},
   "outputs": [
    {
     "name": "stdout",
     "output_type": "stream",
     "text": [
      "Hello How Are You\n",
      "After replacing 'Hello' with 'Hi' string becomes : Hi How Are You\n"
     ]
    }
   ],
   "source": [
    "# Replacing the old substring with the new substring\n",
    "string = \"Hello How Are You\"\n",
    "print(string)\n",
    "z = np.char.replace(string, \"Hello\", \"Hi\")\n",
    "print(f\"After replacing 'Hello' with 'Hi' string becomes : {z}\")"
   ]
  },
  {
   "cell_type": "code",
   "execution_count": 54,
   "id": "1dc60a1d-ae19-454d-b60f-4d2bd2473019",
   "metadata": {},
   "outputs": [
    {
     "name": "stdout",
     "output_type": "stream",
     "text": [
      "hello how are you\n",
      "Converting hello how are you into upper case : HELLO HOW ARE YOU\n",
      "GREETINGS OF THE DAY\n",
      "Converting GREETINGS OF THE DAY into lower case : greetings of the day\n"
     ]
    }
   ],
   "source": [
    "# Converting all lower case to upper case\n",
    "str1 = \"hello how are you\"\n",
    "print(str1)\n",
    "z = np.char.upper(str1)\n",
    "print(f\"Converting {str1} into upper case : {z}\")\n",
    "\n",
    "str2 = \"GREETINGS OF THE DAY\"\n",
    "print(str2)\n",
    "\n",
    "s = np.char.lower(str2)\n",
    "print(f\"Converting {str2} into lower case : {s}\")"
   ]
  },
  {
   "cell_type": "code",
   "execution_count": null,
   "id": "9e64f897-5cac-4bdd-bb7c-04326bf5a074",
   "metadata": {},
   "outputs": [],
   "source": []
  },
  {
   "cell_type": "code",
   "execution_count": null,
   "id": "9575072a-1ad3-4e66-a43f-308e462ec5a2",
   "metadata": {},
   "outputs": [],
   "source": []
  }
 ],
 "metadata": {
  "kernelspec": {
   "display_name": "Python 3 (ipykernel)",
   "language": "python",
   "name": "python3"
  },
  "language_info": {
   "codemirror_mode": {
    "name": "ipython",
    "version": 3
   },
   "file_extension": ".py",
   "mimetype": "text/x-python",
   "name": "python",
   "nbconvert_exporter": "python",
   "pygments_lexer": "ipython3",
   "version": "3.13.3"
  }
 },
 "nbformat": 4,
 "nbformat_minor": 5
}
